{
 "cells": [
  {
   "cell_type": "code",
   "execution_count": 19,
   "id": "initial_id",
   "metadata": {
    "collapsed": true,
    "ExecuteTime": {
     "end_time": "2023-10-24T13:26:46.158632500Z",
     "start_time": "2023-10-24T13:26:46.125242600Z"
    }
   },
   "outputs": [],
   "source": [
    "import numpy as np\n",
    "import pandas as pd\n",
    "import seaborn as sns\n",
    "from sklearn.metrics import silhouette_score, davies_bouldin_score, calinski_harabasz_score, adjusted_rand_score, pairwise_distances\n",
    "import matplotlib.pyplot as plt\n",
    "from sklearn.cluster import KMeans, AgglomerativeClustering\n",
    "from scipy.cluster.hierarchy import dendrogram, linkage"
   ]
  },
  {
   "cell_type": "code",
   "execution_count": 20,
   "outputs": [
    {
     "name": "stdout",
     "output_type": "stream",
     "text": [
      "<class 'pandas.core.frame.DataFrame'>\n",
      "RangeIndex: 6 entries, 0 to 5\n",
      "Data columns (total 2 columns):\n",
      " #   Column  Non-Null Count  Dtype  \n",
      "---  ------  --------------  -----  \n",
      " 0   col1    6 non-null      float64\n",
      " 1   col2    6 non-null      float64\n",
      "dtypes: float64(2)\n",
      "memory usage: 228.0 bytes\n"
     ]
    }
   ],
   "source": [
    "df = pd.read_csv('data\\\\data_lab1_змодельовані\\\\agglo.txt', delimiter='\\t', header=None)\n",
    "\n",
    "df[['col1', 'col2']] = df[0].str.split(expand=True)\n",
    "\n",
    "df = df.drop(columns=[0])\n",
    "\n",
    "df['col1'] = df['col1'].astype(float)\n",
    "df['col2'] = df['col2'].astype(float)\n",
    "\n",
    "df.info()"
   ],
   "metadata": {
    "collapsed": false,
    "ExecuteTime": {
     "end_time": "2023-10-24T13:26:46.158632500Z",
     "start_time": "2023-10-24T13:26:46.128749600Z"
    }
   },
   "id": "78b8c83bdf273fe6"
  },
  {
   "cell_type": "code",
   "execution_count": 21,
   "outputs": [
    {
     "data": {
      "text/plain": "   col1  col2\n0  29.0  24.0\n1  29.0  32.0\n2  30.0  25.0\n3  30.0  35.0\n4  28.0  27.0\n5  31.0  33.0",
      "text/html": "<div>\n<style scoped>\n    .dataframe tbody tr th:only-of-type {\n        vertical-align: middle;\n    }\n\n    .dataframe tbody tr th {\n        vertical-align: top;\n    }\n\n    .dataframe thead th {\n        text-align: right;\n    }\n</style>\n<table border=\"1\" class=\"dataframe\">\n  <thead>\n    <tr style=\"text-align: right;\">\n      <th></th>\n      <th>col1</th>\n      <th>col2</th>\n    </tr>\n  </thead>\n  <tbody>\n    <tr>\n      <th>0</th>\n      <td>29.0</td>\n      <td>24.0</td>\n    </tr>\n    <tr>\n      <th>1</th>\n      <td>29.0</td>\n      <td>32.0</td>\n    </tr>\n    <tr>\n      <th>2</th>\n      <td>30.0</td>\n      <td>25.0</td>\n    </tr>\n    <tr>\n      <th>3</th>\n      <td>30.0</td>\n      <td>35.0</td>\n    </tr>\n    <tr>\n      <th>4</th>\n      <td>28.0</td>\n      <td>27.0</td>\n    </tr>\n    <tr>\n      <th>5</th>\n      <td>31.0</td>\n      <td>33.0</td>\n    </tr>\n  </tbody>\n</table>\n</div>"
     },
     "execution_count": 21,
     "metadata": {},
     "output_type": "execute_result"
    }
   ],
   "source": [
    "X = df.copy()\n",
    "# test_df['y_kmeans'] = 1\n",
    "X"
   ],
   "metadata": {
    "collapsed": false,
    "ExecuteTime": {
     "end_time": "2023-10-24T13:26:46.158632500Z",
     "start_time": "2023-10-24T13:26:46.142266300Z"
    }
   },
   "id": "1c37db71a4ebc927"
  },
  {
   "cell_type": "code",
   "execution_count": 22,
   "outputs": [],
   "source": [
    "def init_clusters(X):\n",
    "    N = X.shape[0]\n",
    "    labels = []\n",
    "    for i in range(N):\n",
    "        labels.append([i+1])\n",
    "    return labels\n",
    "    \n",
    "def init_matrix(X):\n",
    "    N = X.shape[0]\n",
    "    matrix = []\n",
    "    for l in range(N):\n",
    "        row = []\n",
    "        for h in range(N):\n",
    "            euclidean_distance = np.linalg.norm(X[l] - X[h])\n",
    "            row.append(euclidean_distance)\n",
    "        matrix.append(row)\n",
    "    return np.array(matrix)\n",
    "\n",
    "def find_nearest_clusters(matrix):\n",
    "     min_elem = matrix[0,1]\n",
    "     index1 = 0\n",
    "     index2 = 0 \n",
    "     for i in range(matrix.shape[0]):\n",
    "        for j in range(matrix.shape[0]):\n",
    "            if matrix[i,j] != 0 and matrix[i,j] < min_elem:\n",
    "                min_elem = matrix[i,j]\n",
    "                index1 = i\n",
    "                index2 = j\n",
    "     return np.array([index1, index2])\n",
    "\n",
    "def update_labels(nearest_clusters, labels):\n",
    "    combined_cluster = labels[nearest_clusters[0]] + labels[nearest_clusters[1]]\n",
    "    labels[nearest_clusters[0]] = combined_cluster\n",
    "    del labels[nearest_clusters[1]]\n",
    "    return labels\n",
    "    \n",
    "def update_matrix(matrix, nearest_clusters):\n",
    "    new_matrix = matrix.copy()\n",
    "    \n",
    "    index1 = nearest_clusters[0]\n",
    "    index2 = nearest_clusters[1]\n",
    "    alpha = 0.5\n",
    "    \n",
    "    for i in range(new_matrix.shape[0]):\n",
    "        if index1 == i:\n",
    "            new_matrix[i, index1] = 0\n",
    "        else:\n",
    "            new_matrix[i, index1] = alpha * (matrix[i,index1] + matrix[i, index2])\n",
    "        \n",
    "    for j in range(new_matrix.shape[1]):\n",
    "        new_matrix[index1, j] = new_matrix[j, index1]\n",
    "           \n",
    "    new_matrix = np.delete(new_matrix, index2, axis=0)  \n",
    "    new_matrix = np.delete(new_matrix, index2, axis=1)     \n",
    "        \n",
    "    return new_matrix\n",
    "    \n",
    "    \n",
    "    \n",
    "    \n",
    "# def find_nearest_clusters(matrix):\n",
    "#     mask = np.ma.masked_where(matrix == 0, matrix)\n",
    "#     min_values = np.min(mask, axis=0)\n",
    "#     min_value = np.min(min_values)\n",
    "#     argmins = []\n",
    "#     for i in range(min_values.shape[0]):\n",
    "#         if min_values[i] == min_value:\n",
    "#             argmins.append(i)\n",
    "#     return np.array(argmins)\n",
    "   \n",
    " \n",
    "   \n",
    "            \n",
    "           \n",
    "          \n",
    "\n",
    "def agglomerative_clustering(X, n_clusters):\n",
    "    labels = init_clusters(X)\n",
    "    print(labels)\n",
    "    matrix = init_matrix(X)\n",
    "    # print(matrix)\n",
    "    for _ in range(2, X.shape[0]):\n",
    "        nearest_clusters = find_nearest_clusters(matrix)\n",
    "        print(nearest_clusters)\n",
    "        labels = update_labels(nearest_clusters, labels)\n",
    "        print(labels)\n",
    "        matrix = update_matrix(matrix, nearest_clusters)\n",
    "        print(matrix)\n",
    "        \n",
    "    "
   ],
   "metadata": {
    "collapsed": false,
    "ExecuteTime": {
     "end_time": "2023-10-24T13:26:46.174249Z",
     "start_time": "2023-10-24T13:26:46.149076100Z"
    }
   },
   "id": "38ddb1d953f080b8"
  },
  {
   "cell_type": "code",
   "execution_count": 23,
   "outputs": [
    {
     "name": "stdout",
     "output_type": "stream",
     "text": [
      "[[1], [2], [3], [4], [5], [6]]\n",
      "[0 2]\n",
      "[[1, 3], [2], [4], [5], [6]]\n",
      "[[ 0.          7.53553391 10.52268051  2.99535239  8.6409011 ]\n",
      " [ 7.53553391  0.          3.16227766  5.09901951  2.23606798]\n",
      " [10.52268051  3.16227766  0.          8.24621125  2.23606798]\n",
      " [ 2.99535239  5.09901951  8.24621125  0.          6.70820393]\n",
      " [ 8.6409011   2.23606798  2.23606798  6.70820393  0.        ]]\n",
      "[1 4]\n",
      "[[1, 3], [2, 6], [4], [5]]\n",
      "[[ 0.          8.0882175  10.52268051  2.99535239]\n",
      " [ 8.0882175   0.          2.69917282  5.90361172]\n",
      " [10.52268051  2.69917282  0.          8.24621125]\n",
      " [ 2.99535239  5.90361172  8.24621125  0.        ]]\n",
      "[1 2]\n",
      "[[1, 3], [2, 6, 4], [5]]\n",
      "[[0.         9.30544901 2.99535239]\n",
      " [9.30544901 0.         7.07491149]\n",
      " [2.99535239 7.07491149 0.        ]]\n",
      "[0 2]\n",
      "[[1, 3, 5], [2, 6, 4]]\n",
      "[[0.         8.19018025]\n",
      " [8.19018025 0.        ]]\n"
     ]
    }
   ],
   "source": [
    "agglo = agglomerative_clustering(X.values, n_clusters=2)"
   ],
   "metadata": {
    "collapsed": false,
    "ExecuteTime": {
     "end_time": "2023-10-24T13:26:46.209910Z",
     "start_time": "2023-10-24T13:26:46.160630200Z"
    }
   },
   "id": "dcbbf80b4e90132e"
  },
  {
   "cell_type": "code",
   "execution_count": 24,
   "outputs": [
    {
     "name": "stdout",
     "output_type": "stream",
     "text": [
      "[[1, 3], [2, 5], [4]]\n"
     ]
    }
   ],
   "source": [
    "l = [[1,3], [2], [4],[5]]\n",
    "indexes = [1, 3]\n",
    "\n",
    "l = update_labels(indexes, l)\n",
    "print(l)"
   ],
   "metadata": {
    "collapsed": false,
    "ExecuteTime": {
     "end_time": "2023-10-24T13:26:46.210910800Z",
     "start_time": "2023-10-24T13:26:46.169244600Z"
    }
   },
   "id": "54ac90482fdef862"
  },
  {
   "cell_type": "code",
   "execution_count": 24,
   "outputs": [],
   "source": [],
   "metadata": {
    "collapsed": false,
    "ExecuteTime": {
     "end_time": "2023-10-24T13:26:46.223922300Z",
     "start_time": "2023-10-24T13:26:46.177945Z"
    }
   },
   "id": "255ff3c598926fa0"
  }
 ],
 "metadata": {
  "kernelspec": {
   "display_name": "Python 3",
   "language": "python",
   "name": "python3"
  },
  "language_info": {
   "codemirror_mode": {
    "name": "ipython",
    "version": 2
   },
   "file_extension": ".py",
   "mimetype": "text/x-python",
   "name": "python",
   "nbconvert_exporter": "python",
   "pygments_lexer": "ipython2",
   "version": "2.7.6"
  }
 },
 "nbformat": 4,
 "nbformat_minor": 5
}
